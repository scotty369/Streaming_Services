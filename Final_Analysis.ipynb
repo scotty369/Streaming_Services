{
 "cells": [
  {
   "cell_type": "markdown",
   "metadata": {},
   "source": [
    "# **Streaming Services Analysis**\n",
    "\n",
    "## *Analysis Overview:*\n",
    "\n",
    "This analysis will dive into data from four leading streaming platforms—Netflix, Hulu, Amazon Prime, and Disney+—to explore trends, viewership patterns, and key performance metrics. By examining each service's unique offerings and subscriber behaviors, we aim to uncover insights that highlight their market positions and user preferences in the ever-evolving digital entertainment landscape."
   ]
  },
  {
   "cell_type": "markdown",
   "metadata": {},
   "source": [
    "## *Content Volume and Trends*\n"
   ]
  },
  {
   "cell_type": "markdown",
   "metadata": {},
   "source": [
    "### Distribution of Content by Platform\n",
    "\n",
    "This visualization illustrates the proportion of the different platforms and their count of releases throughout the years. It appears that Amazon Prime has the highest count of releases for now, with Netflix close behind. "
   ]
  },
  {
   "cell_type": "code",
   "execution_count": null,
   "metadata": {},
   "outputs": [],
   "source": [
    "import pandas as pd\n",
    "import plotly.express as px\n",
    "import polars as pl\n",
    "\n",
    "disney = pl.read_csv(\"/Users/scotttow123/Documents/Streaming_Services/Data/disney_plus_titles.csv\")\n",
    "hulu = pl.read_csv(\"/Users/scotttow123/Documents/Streaming_Services/Data/hulu_titles.csv\")\n",
    "netflix = pl.read_csv(\"/Users/scotttow123/Documents/Streaming_Services/Data/netflix_titles.csv\")\n",
    "prime = pd.read_csv(\"/Users/scotttow123/Documents/Streaming_Services/Data/amazon_prime_titles.csv\")\n",
    "\n",
    "disney = disney.with_columns(pl.lit(\"Disney+\").alias(\"platform\"))\n",
    "hulu = hulu.with_columns(pl.lit(\"Hulu\").alias(\"platform\"))\n",
    "netflix = netflix.with_columns(pl.lit(\"Netflix\").alias(\"platform\"))\n",
    "\n",
    "disney = disney.to_pandas()\n",
    "hulu = hulu.to_pandas()\n",
    "netflix = netflix.to_pandas()\n",
    "\n",
    "prime[\"platform\"] = \"Amazon Prime\"\n",
    "\n",
    "data = pd.concat([disney, hulu, netflix, prime], ignore_index=True)\n",
    "\n",
    "fig_hist = px.histogram(data, x=\"release_year\", color=\"platform\", marginal=\"box\", \n",
    "                        title=\"Distribution of Content Release Years by Platform\",\n",
    "                        opacity=0.7, nbins=30)\n",
    "fig_hist.show()"
   ]
  },
  {
   "cell_type": "markdown",
   "metadata": {},
   "source": [
    "### Content Count Over Time \n",
    "\n",
    "This line graph tracks the growth in content offerings for each platform over time. We can see here that among the platforms Amazon Prime again has the highest release count through the years. Although, Disney+ seems to have remained steady with their releases over time. "
   ]
  },
  {
   "cell_type": "code",
   "execution_count": null,
   "metadata": {},
   "outputs": [],
   "source": [
    "content_over_time = data.groupby(['release_year', 'platform']).size().reset_index(name='count')\n",
    "\n",
    "fig_line = px.line(content_over_time, x='release_year', y='count', color='platform', \n",
    "                   title=\"Content Count Over Time by Platform\")\n",
    "fig_line.show()"
   ]
  },
  {
   "cell_type": "markdown",
   "metadata": {},
   "source": [
    "### Movies and TV Shows Released Over Time\n",
    "\n",
    "This visualization highlights the release patterns of movies and TV shows over time across all platforms. This graphic displays how much more prominent TV shows has become over the years with their value increasing more than Movies have. "
   ]
  },
  {
   "cell_type": "code",
   "execution_count": null,
   "metadata": {},
   "outputs": [],
   "source": [
    "content_stream = data.groupby(['release_year', 'type']).size().unstack().fillna(0)\n",
    "\n",
    "fig_stream = px.area(content_stream, title=\"Movies and TV Shows Released Over Time\")\n",
    "fig_stream.show()"
   ]
  },
  {
   "cell_type": "markdown",
   "metadata": {},
   "source": [
    "## *Content Duration Analysis*\n",
    "\n",
    "### Duration of Content by Platform\n",
    "\n",
    "This plot provides a comparative analysis of the average content duration on each platform. We have Movie and TV shows being displayed, and it appears that Amazon Prime has the longest duration in both movies and tv shows, while Disney+ has the shortest. "
   ]
  },
  {
   "cell_type": "code",
   "execution_count": null,
   "metadata": {},
   "outputs": [],
   "source": []
  }
 ],
 "metadata": {
  "kernelspec": {
   "display_name": "Python 3",
   "language": "python",
   "name": "python3"
  },
  "language_info": {
   "name": "python",
   "version": "3.9.6"
  }
 },
 "nbformat": 4,
 "nbformat_minor": 2
}
